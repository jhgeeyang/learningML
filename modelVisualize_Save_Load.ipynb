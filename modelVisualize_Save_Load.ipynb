{
 "cells": [
  {
   "cell_type": "code",
   "execution_count": 1,
   "metadata": {},
   "outputs": [
    {
     "name": "stderr",
     "output_type": "stream",
     "text": [
      "Using TensorFlow backend.\n"
     ]
    },
    {
     "name": "stdout",
     "output_type": "stream",
     "text": [
      "Train on 18000 samples, validate on 42000 samples\n",
      "Epoch 1/5\n",
      "18000/18000 [==============================] - 2s 103us/step - loss: 1.1650 - acc: 0.7184 - val_loss: 0.6754 - val_acc: 0.8296\n",
      "Epoch 2/5\n",
      "18000/18000 [==============================] - 2s 93us/step - loss: 0.5312 - acc: 0.8641 - val_loss: 0.4883 - val_acc: 0.8699\n",
      "Epoch 3/5\n",
      "18000/18000 [==============================] - 2s 84us/step - loss: 0.4221 - acc: 0.8839 - val_loss: 0.4212 - val_acc: 0.8857\n",
      "Epoch 4/5\n",
      "18000/18000 [==============================] - 2s 89us/step - loss: 0.3738 - acc: 0.8979 - val_loss: 0.3843 - val_acc: 0.8935\n",
      "Epoch 5/5\n",
      "18000/18000 [==============================] - 2s 91us/step - loss: 0.3446 - acc: 0.9040 - val_loss: 0.3628 - val_acc: 0.8985\n",
      "10000/10000 [==============================] - 0s 22us/step\n",
      "\n",
      "loss_and_metrics : [0.33802563573122024, 0.9044]\n",
      "True : 4, Predict : 4\n",
      "True : 0, Predict : 0\n",
      "True : 9, Predict : 9\n",
      "True : 3, Predict : 3\n",
      "True : 0, Predict : 0\n"
     ]
    }
   ],
   "source": [
    "# 0. 사용할 패키지 불러오기\n",
    "from keras.utils import np_utils\n",
    "from keras.datasets import mnist\n",
    "from keras.models import Sequential\n",
    "from keras.layers import Dense, Activation\n",
    "import numpy as np\n",
    "from numpy import argmax\n",
    "\n",
    "# 1. 데이터셋 생성하기\n",
    "\n",
    "# 훈련셋과 시험셋 불러오기\n",
    "(x_train, y_train), (x_test, y_test) = mnist.load_data()\n",
    "\n",
    "# 데이터셋 전처리\n",
    "x_train = x_train.reshape(60000, 784).astype('float32') / 255.0\n",
    "x_test = x_test.reshape(10000, 784).astype('float32') / 255.0\n",
    "\n",
    "# 원핫인코딩 (one-hot encoding) 처리\n",
    "y_train = np_utils.to_categorical(y_train)\n",
    "y_test = np_utils.to_categorical(y_test)\n",
    "\n",
    "# 훈련셋과 검증셋 분리\n",
    "x_val = x_train[:42000] # 훈련셋의 30%를 검증셋으로 사용\n",
    "x_train = x_train[42000:]\n",
    "y_val = y_train[:42000] # 훈련셋의 30%를 검증셋으로 사용\n",
    "y_train = y_train[42000:]\n",
    "\n",
    "# 2. 모델 구성하기\n",
    "model = Sequential()\n",
    "model.add(Dense(units=64, input_dim=28*28, activation='relu'))\n",
    "model.add(Dense(units=10, activation='softmax'))\n",
    "\n",
    "# 3. 모델 학습과정 설정하기\n",
    "model.compile(loss='categorical_crossentropy', optimizer='sgd', metrics=['accuracy'])\n",
    "\n",
    "# 4. 모델 학습시키기\n",
    "model.fit(x_train, y_train, epochs=5, batch_size=32, validation_data=(x_val, y_val))\n",
    "\n",
    "# 5. 모델 평가하기\n",
    "loss_and_metrics = model.evaluate(x_test, y_test, batch_size=32)\n",
    "print('')\n",
    "print('loss_and_metrics : ' + str(loss_and_metrics))\n",
    "\n",
    "# 6. 모델 사용하기\n",
    "xhat_idx = np.random.choice(x_test.shape[0], 5)\n",
    "xhat = x_test[xhat_idx]\n",
    "yhat = model.predict_classes(xhat)\n",
    "\n",
    "for i in range(5):\n",
    "    print('True : ' + str(argmax(y_test[xhat_idx[i]])) + ', Predict : ' + str(yhat[i]))\n"
   ]
  },
  {
   "cell_type": "markdown",
   "metadata": {},
   "source": [
    "## Learn & Evaluate"
   ]
  },
  {
   "cell_type": "code",
   "execution_count": 2,
   "metadata": {},
   "outputs": [],
   "source": [
    "## Save both architecture & Weight in h5 file extension\n",
    "from keras.models import load_model\n",
    "\n",
    "model.save('mnist_mlp_model.h5')\n"
   ]
  },
  {
   "cell_type": "markdown",
   "metadata": {},
   "source": [
    "## Visualize the architecture"
   ]
  },
  {
   "cell_type": "code",
   "execution_count": 3,
   "metadata": {},
   "outputs": [
    {
     "data": {
      "image/svg+xml": [
       "<svg height=\"211pt\" viewBox=\"0.00 0.00 248.00 211.00\" width=\"248pt\" xmlns=\"http://www.w3.org/2000/svg\" xmlns:xlink=\"http://www.w3.org/1999/xlink\">\n",
       "<g class=\"graph\" id=\"graph0\" transform=\"scale(1 1) rotate(0) translate(4 207)\">\n",
       "<title>G</title>\n",
       "<polygon fill=\"white\" points=\"-4,4 -4,-207 244,-207 244,4 -4,4\" stroke=\"none\"/>\n",
       "<!-- 139667778354480 -->\n",
       "<g class=\"node\" id=\"node1\"><title>139667778354480</title>\n",
       "<polygon fill=\"none\" points=\"-1.42109e-14,-83.5 -1.42109e-14,-129.5 240,-129.5 240,-83.5 -1.42109e-14,-83.5\" stroke=\"black\"/>\n",
       "<text font-family=\"Times,serif\" font-size=\"14.00\" text-anchor=\"middle\" x=\"51\" y=\"-102.8\">dense_1: Dense</text>\n",
       "<polyline fill=\"none\" points=\"102,-83.5 102,-129.5 \" stroke=\"black\"/>\n",
       "<text font-family=\"Times,serif\" font-size=\"14.00\" text-anchor=\"middle\" x=\"129.5\" y=\"-114.3\">input:</text>\n",
       "<polyline fill=\"none\" points=\"102,-106.5 157,-106.5 \" stroke=\"black\"/>\n",
       "<text font-family=\"Times,serif\" font-size=\"14.00\" text-anchor=\"middle\" x=\"129.5\" y=\"-91.3\">output:</text>\n",
       "<polyline fill=\"none\" points=\"157,-83.5 157,-129.5 \" stroke=\"black\"/>\n",
       "<text font-family=\"Times,serif\" font-size=\"14.00\" text-anchor=\"middle\" x=\"198.5\" y=\"-114.3\">(None, 784)</text>\n",
       "<polyline fill=\"none\" points=\"157,-106.5 240,-106.5 \" stroke=\"black\"/>\n",
       "<text font-family=\"Times,serif\" font-size=\"14.00\" text-anchor=\"middle\" x=\"198.5\" y=\"-91.3\">(None, 64)</text>\n",
       "</g>\n",
       "<!-- 139666201937176 -->\n",
       "<g class=\"node\" id=\"node2\"><title>139666201937176</title>\n",
       "<polygon fill=\"none\" points=\"3.5,-0.5 3.5,-46.5 236.5,-46.5 236.5,-0.5 3.5,-0.5\" stroke=\"black\"/>\n",
       "<text font-family=\"Times,serif\" font-size=\"14.00\" text-anchor=\"middle\" x=\"54.5\" y=\"-19.8\">dense_2: Dense</text>\n",
       "<polyline fill=\"none\" points=\"105.5,-0.5 105.5,-46.5 \" stroke=\"black\"/>\n",
       "<text font-family=\"Times,serif\" font-size=\"14.00\" text-anchor=\"middle\" x=\"133\" y=\"-31.3\">input:</text>\n",
       "<polyline fill=\"none\" points=\"105.5,-23.5 160.5,-23.5 \" stroke=\"black\"/>\n",
       "<text font-family=\"Times,serif\" font-size=\"14.00\" text-anchor=\"middle\" x=\"133\" y=\"-8.3\">output:</text>\n",
       "<polyline fill=\"none\" points=\"160.5,-0.5 160.5,-46.5 \" stroke=\"black\"/>\n",
       "<text font-family=\"Times,serif\" font-size=\"14.00\" text-anchor=\"middle\" x=\"198.5\" y=\"-31.3\">(None, 64)</text>\n",
       "<polyline fill=\"none\" points=\"160.5,-23.5 236.5,-23.5 \" stroke=\"black\"/>\n",
       "<text font-family=\"Times,serif\" font-size=\"14.00\" text-anchor=\"middle\" x=\"198.5\" y=\"-8.3\">(None, 10)</text>\n",
       "</g>\n",
       "<!-- 139667778354480&#45;&gt;139666201937176 -->\n",
       "<g class=\"edge\" id=\"edge2\"><title>139667778354480-&gt;139666201937176</title>\n",
       "<path d=\"M120,-83.3664C120,-75.1516 120,-65.6579 120,-56.7252\" fill=\"none\" stroke=\"black\"/>\n",
       "<polygon fill=\"black\" points=\"123.5,-56.6068 120,-46.6068 116.5,-56.6069 123.5,-56.6068\" stroke=\"black\"/>\n",
       "</g>\n",
       "<!-- 139666201939808 -->\n",
       "<g class=\"node\" id=\"node3\"><title>139666201939808</title>\n",
       "<polygon fill=\"none\" points=\"61,-166.5 61,-202.5 179,-202.5 179,-166.5 61,-166.5\" stroke=\"black\"/>\n",
       "<text font-family=\"Times,serif\" font-size=\"14.00\" text-anchor=\"middle\" x=\"120\" y=\"-180.8\">139666201939808</text>\n",
       "</g>\n",
       "<!-- 139666201939808&#45;&gt;139667778354480 -->\n",
       "<g class=\"edge\" id=\"edge1\"><title>139666201939808-&gt;139667778354480</title>\n",
       "<path d=\"M120,-166.254C120,-158.363 120,-148.749 120,-139.602\" fill=\"none\" stroke=\"black\"/>\n",
       "<polygon fill=\"black\" points=\"123.5,-139.591 120,-129.591 116.5,-139.591 123.5,-139.591\" stroke=\"black\"/>\n",
       "</g>\n",
       "</g>\n",
       "</svg>"
      ],
      "text/plain": [
       "<IPython.core.display.SVG object>"
      ]
     },
     "execution_count": 3,
     "metadata": {},
     "output_type": "execute_result"
    }
   ],
   "source": [
    "from IPython.display import SVG\n",
    "from keras.utils.vis_utils import model_to_dot\n",
    "\n",
    "%matplotlib inline\n",
    "\n",
    "SVG(model_to_dot(model, show_shapes=True).create(prog='dot', format='svg'))\n"
   ]
  },
  {
   "cell_type": "markdown",
   "metadata": {},
   "source": [
    "## Load the Arch."
   ]
  },
  {
   "cell_type": "code",
   "execution_count": 9,
   "metadata": {},
   "outputs": [
    {
     "name": "stdout",
     "output_type": "stream",
     "text": [
      "True : 1, Predict : 1\n",
      "True : 8, Predict : 8\n",
      "True : 2, Predict : 2\n",
      "True : 5, Predict : 5\n",
      "True : 7, Predict : 7\n"
     ]
    }
   ],
   "source": [
    "# 0. 사용할 패키지 불러오기\n",
    "from keras.utils import np_utils\n",
    "from keras.datasets import mnist\n",
    "from keras.models import Sequential\n",
    "from keras.layers import Dense, Activation\n",
    "import numpy as np\n",
    "from numpy import argmax\n",
    "\n",
    "# 1. 실무에 사용할 데이터 준비하기\n",
    "(x_train, y_train), (x_test, y_test) = mnist.load_data()\n",
    "x_test = x_test.reshape(10000, 784).astype('float32') / 255.0\n",
    "y_test = np_utils.to_categorical(y_test)\n",
    "xhat_idx = np.random.choice(x_test.shape[0], 5)\n",
    "xhat = x_test[xhat_idx]\n",
    "\n",
    "# 2. 모델 불러오기\n",
    "from keras.models import load_model\n",
    "model = load_model('mnist_mlp_model.h5')\n",
    "\n",
    "# 3. 모델 사용하기\n",
    "yhat = model.predict_classes(xhat)\n",
    "\n",
    "for i in range(5):\n",
    "    print('True : ' + str(argmax(y_test[xhat_idx[i]])) + ', Predict : ' + str(yhat[i]))\n"
   ]
  },
  {
   "cell_type": "markdown",
   "metadata": {},
   "source": [
    "## Seprate Save option - arch / weight"
   ]
  },
  {
   "cell_type": "code",
   "execution_count": 13,
   "metadata": {},
   "outputs": [],
   "source": [
    "from keras.models import model_from_json\n",
    "json_string = model.to_json() # 모델 아키텍처를 json 형식으로 저장\n",
    "model_json = model_from_json(json_string) # json 파일에서 모델 아키텍처 재구성\n",
    "\n",
    "from keras.models import model_from_yaml\n",
    "yaml_string = model.to_yaml() # 모델 아키텍처를 yaml 형식으로 저장\n",
    "model_yaml = model_from_yaml(yaml_string) # yaml 파일에서 모델 아키텍처 재구성\n",
    "## Separate weight Save\n",
    "mode_weight = model.save_weights('./sampleSave.h5')\n"
   ]
  },
  {
   "cell_type": "code",
   "execution_count": null,
   "metadata": {},
   "outputs": [],
   "source": []
  }
 ],
 "metadata": {
  "kernelspec": {
   "display_name": "Python 3",
   "language": "python",
   "name": "python3"
  },
  "language_info": {
   "codemirror_mode": {
    "name": "ipython",
    "version": 3
   },
   "file_extension": ".py",
   "mimetype": "text/x-python",
   "name": "python",
   "nbconvert_exporter": "python",
   "pygments_lexer": "ipython3",
   "version": "3.5.6"
  }
 },
 "nbformat": 4,
 "nbformat_minor": 2
}
