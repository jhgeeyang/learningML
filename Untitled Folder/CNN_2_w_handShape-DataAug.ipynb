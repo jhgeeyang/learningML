{
 "cells": [
  {
   "cell_type": "code",
   "execution_count": 1,
   "metadata": {},
   "outputs": [
    {
     "name": "stderr",
     "output_type": "stream",
     "text": [
      "Using TensorFlow backend.\n"
     ]
    }
   ],
   "source": []
  },
  {
   "cell_type": "code",
   "execution_count": 2,
   "metadata": {},
   "outputs": [
    {
     "name": "stderr",
     "output_type": "stream",
     "text": [
      "Using TensorFlow backend.\n"
     ]
    },
    {
     "name": "stdout",
     "output_type": "stream",
     "text": [
      "Found 45 images belonging to 3 classes.\n",
      "Found 15 images belonging to 3 classes.\n"
     ]
    }
   ],
   "source": [
    "import numpy as np\n",
    "\n",
    "# 랜덤시드 고정시키기\n",
    "np.random.seed(3)\n",
    "\n",
    "from keras.preprocessing.image import ImageDataGenerator\n",
    "\n",
    "# 데이터셋 불러오기\n",
    "train_datagen = ImageDataGenerator(rescale=1./255, \n",
    "                                   rotation_range=10,\n",
    "                                   width_shift_range=0.2,\n",
    "                                   height_shift_range=0.2,\n",
    "                                   shear_range=0.7,\n",
    "                                   zoom_range=[0.9, 2.2],\n",
    "                                   horizontal_flip=True,\n",
    "                                   vertical_flip=True,\n",
    "                                   fill_mode='nearest')\n",
    "\n",
    "train_generator = train_datagen.flow_from_directory(\n",
    "        './handShape/train',\n",
    "        target_size=(24, 24),\n",
    "        batch_size=3,\n",
    "        class_mode='categorical')\n",
    "\n",
    "test_datagen = ImageDataGenerator(rescale=1./255)\n",
    "\n",
    "test_generator = test_datagen.flow_from_directory(\n",
    "        './handShape/test',\n",
    "        target_size=(24, 24),    \n",
    "        batch_size=3,\n",
    "        class_mode='categorical')"
   ]
  },
  {
   "cell_type": "code",
   "execution_count": 3,
   "metadata": {},
   "outputs": [],
   "source": [
    "from keras.models import Sequential\n",
    "from keras.layers import Dense\n",
    "from keras.layers import Flatten\n",
    "from keras.layers.convolutional import Conv2D\n",
    "from keras.layers.convolutional import MaxPooling2D\n",
    "\n",
    "from keras.layers import Dropout\n",
    "\n",
    "model = Sequential()\n",
    "model.add(Conv2D(32, kernel_size=(3, 3),\n",
    "                 activation='relu',\n",
    "                 input_shape=(24,24,3)))\n",
    "model.add(Conv2D(64, (3, 3), activation='relu'))\n",
    "model.add(MaxPooling2D(pool_size=(2, 2)))\n",
    "model.add(Flatten())\n",
    "model.add(Dense(128, activation='relu'))\n",
    "model.add(Dense(3, activation='softmax'))\n",
    "\n",
    "# 모델 엮기\n",
    "model.compile(loss='categorical_crossentropy', optimizer='adam', metrics=['accuracy'])"
   ]
  },
  {
   "cell_type": "code",
   "execution_count": null,
   "metadata": {},
   "outputs": [
    {
     "name": "stdout",
     "output_type": "stream",
     "text": [
      "Epoch 1/200\n",
      "1500/1500 [==============================] - 34s 23ms/step - loss: 0.4069 - acc: 0.8342 - val_loss: 0.2868 - val_acc: 0.9333\n",
      "Epoch 2/200\n",
      "1500/1500 [==============================] - 36s 24ms/step - loss: 0.1143 - acc: 0.9627 - val_loss: 3.7662e-04 - val_acc: 1.0000\n",
      "Epoch 3/200\n",
      "1500/1500 [==============================] - 34s 23ms/step - loss: 0.0775 - acc: 0.9749 - val_loss: 0.3372 - val_acc: 0.9333\n",
      "Epoch 4/200\n",
      "1500/1500 [==============================] - 35s 23ms/step - loss: 0.0642 - acc: 0.9767 - val_loss: 0.0330 - val_acc: 1.0000\n",
      "Epoch 5/200\n",
      "1500/1500 [==============================] - 35s 23ms/step - loss: 0.0508 - acc: 0.9838 - val_loss: 0.0176 - val_acc: 1.0000\n",
      "Epoch 6/200\n",
      "1500/1500 [==============================] - 27s 18ms/step - loss: 0.0490 - acc: 0.9842 - val_loss: 0.0212 - val_acc: 1.0000\n",
      "Epoch 7/200\n",
      "1500/1500 [==============================] - 27s 18ms/step - loss: 0.0307 - acc: 0.9884 - val_loss: 0.0545 - val_acc: 1.0000\n",
      "Epoch 8/200\n",
      "1500/1500 [==============================] - 26s 18ms/step - loss: 0.0399 - acc: 0.9871 - val_loss: 0.3528 - val_acc: 0.9333\n",
      "Epoch 9/200\n",
      "1500/1500 [==============================] - 26s 18ms/step - loss: 0.0370 - acc: 0.9884 - val_loss: 0.0739 - val_acc: 0.9333\n",
      "Epoch 10/200\n",
      "1500/1500 [==============================] - 27s 18ms/step - loss: 0.0285 - acc: 0.9909 - val_loss: 0.0043 - val_acc: 1.0000\n",
      "Epoch 11/200\n",
      "1500/1500 [==============================] - 27s 18ms/step - loss: 0.0333 - acc: 0.9898 - val_loss: 0.1969 - val_acc: 0.9333\n",
      "Epoch 12/200\n",
      "1500/1500 [==============================] - 26s 18ms/step - loss: 0.0342 - acc: 0.9891 - val_loss: 0.3609 - val_acc: 0.9333\n",
      "Epoch 13/200\n",
      "1500/1500 [==============================] - 27s 18ms/step - loss: 0.0263 - acc: 0.9913 - val_loss: 1.1107 - val_acc: 0.8667\n",
      "Epoch 14/200\n",
      "1500/1500 [==============================] - 26s 18ms/step - loss: 0.0213 - acc: 0.9933 - val_loss: 8.9363e-05 - val_acc: 1.0000\n",
      "Epoch 15/200\n",
      "1500/1500 [==============================] - 26s 18ms/step - loss: 0.0335 - acc: 0.9900 - val_loss: 0.0012 - val_acc: 1.0000\n",
      "Epoch 16/200\n",
      "1500/1500 [==============================] - 27s 18ms/step - loss: 0.0257 - acc: 0.9922 - val_loss: 2.1657e-06 - val_acc: 1.0000\n",
      "Epoch 17/200\n",
      "1500/1500 [==============================] - 27s 18ms/step - loss: 0.0162 - acc: 0.9944 - val_loss: 0.3392 - val_acc: 0.9333\n",
      "Epoch 18/200\n",
      "1500/1500 [==============================] - 27s 18ms/step - loss: 0.0310 - acc: 0.9916 - val_loss: 0.0142 - val_acc: 1.0000\n",
      "Epoch 19/200\n",
      "1500/1500 [==============================] - 27s 18ms/step - loss: 0.0258 - acc: 0.9913 - val_loss: 0.1585 - val_acc: 0.9333\n",
      "Epoch 20/200\n",
      "1500/1500 [==============================] - 26s 18ms/step - loss: 0.0225 - acc: 0.9938 - val_loss: 0.3150 - val_acc: 0.9333\n",
      "Epoch 21/200\n",
      "1500/1500 [==============================] - 26s 18ms/step - loss: 0.0138 - acc: 0.9949 - val_loss: 3.4571e-07 - val_acc: 1.0000\n",
      "Epoch 22/200\n",
      "1500/1500 [==============================] - 27s 18ms/step - loss: 0.0276 - acc: 0.9933 - val_loss: 1.0885e-05 - val_acc: 1.0000\n",
      "Epoch 23/200\n",
      "1500/1500 [==============================] - 26s 18ms/step - loss: 0.0202 - acc: 0.9942 - val_loss: 0.0313 - val_acc: 1.0000\n",
      "Epoch 24/200\n",
      "1500/1500 [==============================] - 26s 18ms/step - loss: 0.0185 - acc: 0.9958 - val_loss: 9.0138e-05 - val_acc: 1.0000\n",
      "Epoch 25/200\n",
      "1500/1500 [==============================] - 32s 21ms/step - loss: 0.0353 - acc: 0.9927 - val_loss: 0.2765 - val_acc: 0.9333\n",
      "Epoch 26/200\n",
      "1500/1500 [==============================] - 34s 23ms/step - loss: 0.0136 - acc: 0.9964 - val_loss: 9.2399e-05 - val_acc: 1.0000\n",
      "Epoch 27/200\n",
      "1500/1500 [==============================] - 27s 18ms/step - loss: 0.0198 - acc: 0.9938 - val_loss: 0.1770 - val_acc: 0.9333\n",
      "Epoch 28/200\n",
      "1500/1500 [==============================] - 28s 19ms/step - loss: 0.0226 - acc: 0.9918 - val_loss: 0.0194 - val_acc: 1.0000\n",
      "Epoch 29/200\n",
      "1500/1500 [==============================] - 27s 18ms/step - loss: 0.0252 - acc: 0.9947 - val_loss: 4.5937e-04 - val_acc: 1.0000\n",
      "Epoch 30/200\n",
      "1500/1500 [==============================] - 28s 19ms/step - loss: 0.0124 - acc: 0.9964 - val_loss: 5.2292e-04 - val_acc: 1.0000\n",
      "Epoch 31/200\n",
      "1500/1500 [==============================] - 33s 22ms/step - loss: 0.0165 - acc: 0.9951 - val_loss: 3.8539e-04 - val_acc: 1.0000\n",
      "Epoch 32/200\n",
      "1500/1500 [==============================] - 29s 19ms/step - loss: 0.0311 - acc: 0.9940 - val_loss: 0.0025 - val_acc: 1.0000\n",
      "Epoch 33/200\n",
      "1500/1500 [==============================] - 26s 18ms/step - loss: 0.0226 - acc: 0.9942 - val_loss: 0.1390 - val_acc: 0.9333\n",
      "Epoch 34/200\n",
      "1500/1500 [==============================] - 27s 18ms/step - loss: 0.0241 - acc: 0.9944 - val_loss: 1.0611 - val_acc: 0.9333\n",
      "Epoch 35/200\n",
      "1500/1500 [==============================] - 26s 18ms/step - loss: 0.0183 - acc: 0.9958 - val_loss: 2.1299e-06 - val_acc: 1.0000\n",
      "Epoch 36/200\n",
      "1500/1500 [==============================] - 31s 21ms/step - loss: 0.0081 - acc: 0.9969 - val_loss: 6.2963e-04 - val_acc: 1.0000\n",
      "Epoch 37/200\n",
      "1500/1500 [==============================] - 27s 18ms/step - loss: 0.0464 - acc: 0.9916 - val_loss: 1.0747 - val_acc: 0.9333\n",
      "Epoch 38/200\n",
      "1500/1500 [==============================] - 28s 18ms/step - loss: 0.0187 - acc: 0.9962 - val_loss: 1.5895e-07 - val_acc: 1.0000\n",
      "Epoch 39/200\n",
      "1500/1500 [==============================] - 28s 19ms/step - loss: 0.0159 - acc: 0.9951 - val_loss: 2.8611e-06 - val_acc: 1.0000\n",
      "Epoch 40/200\n",
      "1500/1500 [==============================] - 30s 20ms/step - loss: 0.0199 - acc: 0.9958 - val_loss: 4.1423e-04 - val_acc: 1.0000\n",
      "Epoch 41/200\n",
      "1500/1500 [==============================] - 30s 20ms/step - loss: 0.0151 - acc: 0.9953 - val_loss: 0.5562 - val_acc: 0.9333\n",
      "Epoch 42/200\n",
      "1500/1500 [==============================] - 32s 21ms/step - loss: 0.0127 - acc: 0.9973 - val_loss: 0.1376 - val_acc: 0.9333\n",
      "Epoch 43/200\n",
      "1500/1500 [==============================] - 30s 20ms/step - loss: 0.0202 - acc: 0.9944 - val_loss: 0.0729 - val_acc: 0.9333\n",
      "Epoch 44/200\n",
      "1500/1500 [==============================] - 31s 21ms/step - loss: 0.0258 - acc: 0.9951 - val_loss: 1.1370e-04 - val_acc: 1.0000\n",
      "Epoch 45/200\n",
      "1500/1500 [==============================] - 32s 21ms/step - loss: 0.0204 - acc: 0.9947 - val_loss: 3.9896e-06 - val_acc: 1.0000\n",
      "Epoch 46/200\n",
      "1500/1500 [==============================] - 31s 21ms/step - loss: 0.0092 - acc: 0.9976 - val_loss: 4.9804e-05 - val_acc: 1.0000\n",
      "Epoch 47/200\n",
      "1500/1500 [==============================] - 29s 19ms/step - loss: 0.0261 - acc: 0.9931 - val_loss: 0.8862 - val_acc: 0.9333\n",
      "Epoch 48/200\n",
      "1500/1500 [==============================] - 35s 23ms/step - loss: 0.0101 - acc: 0.9971 - val_loss: 1.0745 - val_acc: 0.9333\n",
      "Epoch 49/200\n",
      "1500/1500 [==============================] - 41s 27ms/step - loss: 0.0203 - acc: 0.9956 - val_loss: 0.6190 - val_acc: 0.9333\n",
      "Epoch 50/200\n",
      " 765/1500 [==============>...............] - ETA: 17s - loss: 0.0198 - acc: 0.9939"
     ]
    }
   ],
   "source": [
    "# 모델 학습시키기\n",
    "# Use fit_generator when using ImageGenerator\n",
    "# Should Install PIL(Pillow)\n",
    "model.fit_generator(\n",
    "        train_generator,\n",
    "        steps_per_epoch=15 * 100,\n",
    "        epochs=200,\n",
    "        validation_data=test_generator,\n",
    "        validation_steps=5)"
   ]
  },
  {
   "cell_type": "code",
   "execution_count": null,
   "metadata": {},
   "outputs": [],
   "source": [
    "# 모델 평가하기\n",
    "print(\"-- Evaluate --\")\n",
    "\n",
    "scores = model.evaluate_generator(\n",
    "            test_generator, \n",
    "            steps = 5)\n",
    "\n",
    "print(\"%s: %.2f%%\" %(model.metrics_names[1], scores[1]*100))\n"
   ]
  },
  {
   "cell_type": "code",
   "execution_count": null,
   "metadata": {},
   "outputs": [],
   "source": [
    "from IPython.display import SVG\n",
    "from keras.utils.vis_utils import model_to_dot\n",
    "\n",
    "%matplotlib inline\n",
    "\n",
    "SVG(model_to_dot(model, show_shapes=True).create(prog='dot', format='svg'))\n"
   ]
  },
  {
   "cell_type": "code",
   "execution_count": null,
   "metadata": {},
   "outputs": [],
   "source": [
    "# 모델 예측하기\n",
    "print(\"-- Predict --\")\n",
    "\n",
    "output = model.predict_generator(\n",
    "            test_generator, \n",
    "            steps = 5)\n",
    "\n",
    "np.set_printoptions(formatter={'float': lambda x: \"{0:0.3f}\".format(x)})\n",
    "\n",
    "print(output)"
   ]
  },
  {
   "cell_type": "code",
   "execution_count": 6,
   "metadata": {},
   "outputs": [
    {
     "name": "stdout",
     "output_type": "stream",
     "text": [
      "Epoch 1/50\n",
      "15/15 [==============================] - 1s 82ms/step - loss: 1.3511 - acc: 0.4889 - val_loss: 1.0340 - val_acc: 0.6667\n",
      "Epoch 2/50\n",
      "15/15 [==============================] - 0s 32ms/step - loss: 0.9009 - acc: 0.6444 - val_loss: 0.8083 - val_acc: 0.5333\n",
      "Epoch 3/50\n",
      "15/15 [==============================] - 0s 29ms/step - loss: 0.4260 - acc: 0.8889 - val_loss: 0.5792 - val_acc: 0.8667\n",
      "Epoch 4/50\n",
      "15/15 [==============================] - 0s 25ms/step - loss: 0.1352 - acc: 0.9778 - val_loss: 0.7112 - val_acc: 0.8000\n",
      "Epoch 5/50\n",
      "15/15 [==============================] - 0s 28ms/step - loss: 0.0265 - acc: 1.0000 - val_loss: 0.5701 - val_acc: 0.8000\n",
      "Epoch 6/50\n",
      "15/15 [==============================] - 0s 22ms/step - loss: 0.0179 - acc: 1.0000 - val_loss: 0.5554 - val_acc: 0.8667\n",
      "Epoch 7/50\n",
      "15/15 [==============================] - 0s 22ms/step - loss: 0.0068 - acc: 1.0000 - val_loss: 0.6160 - val_acc: 0.8667\n",
      "Epoch 8/50\n",
      "15/15 [==============================] - 0s 23ms/step - loss: 0.0023 - acc: 1.0000 - val_loss: 0.5624 - val_acc: 0.8667\n",
      "Epoch 9/50\n",
      "15/15 [==============================] - 0s 28ms/step - loss: 0.0011 - acc: 1.0000 - val_loss: 0.5071 - val_acc: 0.9333\n",
      "Epoch 10/50\n",
      "15/15 [==============================] - 0s 28ms/step - loss: 7.5215e-04 - acc: 1.0000 - val_loss: 0.5015 - val_acc: 0.9333\n",
      "Epoch 11/50\n",
      "15/15 [==============================] - 0s 29ms/step - loss: 5.8275e-04 - acc: 1.0000 - val_loss: 0.4984 - val_acc: 0.9333\n",
      "Epoch 12/50\n",
      "15/15 [==============================] - 0s 31ms/step - loss: 5.1999e-04 - acc: 1.0000 - val_loss: 0.4994 - val_acc: 0.9333\n",
      "Epoch 13/50\n",
      "15/15 [==============================] - 0s 30ms/step - loss: 4.3011e-04 - acc: 1.0000 - val_loss: 0.4886 - val_acc: 0.9333\n",
      "Epoch 14/50\n",
      "15/15 [==============================] - 0s 31ms/step - loss: 3.7285e-04 - acc: 1.0000 - val_loss: 0.4893 - val_acc: 0.9333\n",
      "Epoch 15/50\n",
      "15/15 [==============================] - 0s 31ms/step - loss: 3.2042e-04 - acc: 1.0000 - val_loss: 0.4968 - val_acc: 0.9333\n",
      "Epoch 16/50\n",
      "15/15 [==============================] - 0s 30ms/step - loss: 2.6548e-04 - acc: 1.0000 - val_loss: 0.4909 - val_acc: 0.9333\n",
      "Epoch 17/50\n",
      "15/15 [==============================] - 0s 30ms/step - loss: 2.4000e-04 - acc: 1.0000 - val_loss: 0.4874 - val_acc: 0.9333\n",
      "Epoch 18/50\n",
      "15/15 [==============================] - 0s 30ms/step - loss: 2.1595e-04 - acc: 1.0000 - val_loss: 0.4823 - val_acc: 0.9333\n",
      "Epoch 19/50\n",
      "15/15 [==============================] - 0s 27ms/step - loss: 1.7800e-04 - acc: 1.0000 - val_loss: 0.4835 - val_acc: 0.9333\n",
      "Epoch 20/50\n",
      "15/15 [==============================] - 0s 32ms/step - loss: 1.5931e-04 - acc: 1.0000 - val_loss: 0.4855 - val_acc: 0.9333\n",
      "Epoch 21/50\n",
      "15/15 [==============================] - 0s 32ms/step - loss: 1.3906e-04 - acc: 1.0000 - val_loss: 0.4838 - val_acc: 0.9333\n",
      "Epoch 22/50\n",
      "15/15 [==============================] - 0s 33ms/step - loss: 1.2630e-04 - acc: 1.0000 - val_loss: 0.4769 - val_acc: 0.9333\n",
      "Epoch 23/50\n",
      "15/15 [==============================] - 0s 32ms/step - loss: 1.0802e-04 - acc: 1.0000 - val_loss: 0.4779 - val_acc: 0.9333\n",
      "Epoch 24/50\n",
      "15/15 [==============================] - 0s 30ms/step - loss: 9.5330e-05 - acc: 1.0000 - val_loss: 0.4758 - val_acc: 0.9333\n",
      "Epoch 25/50\n",
      "15/15 [==============================] - 0s 29ms/step - loss: 8.6539e-05 - acc: 1.0000 - val_loss: 0.4779 - val_acc: 0.9333\n",
      "Epoch 26/50\n",
      "15/15 [==============================] - 0s 31ms/step - loss: 7.6645e-05 - acc: 1.0000 - val_loss: 0.4758 - val_acc: 0.9333\n",
      "Epoch 27/50\n",
      "15/15 [==============================] - 0s 29ms/step - loss: 7.0173e-05 - acc: 1.0000 - val_loss: 0.4730 - val_acc: 0.9333\n",
      "Epoch 28/50\n",
      "15/15 [==============================] - 0s 29ms/step - loss: 6.0773e-05 - acc: 1.0000 - val_loss: 0.4713 - val_acc: 0.9333\n",
      "Epoch 29/50\n",
      "15/15 [==============================] - 1s 34ms/step - loss: 5.6800e-05 - acc: 1.0000 - val_loss: 0.4782 - val_acc: 0.9333\n",
      "Epoch 30/50\n",
      "15/15 [==============================] - 0s 31ms/step - loss: 5.1841e-05 - acc: 1.0000 - val_loss: 0.4716 - val_acc: 0.9333\n",
      "Epoch 31/50\n",
      "15/15 [==============================] - 0s 29ms/step - loss: 4.7936e-05 - acc: 1.0000 - val_loss: 0.4746 - val_acc: 0.9333\n",
      "Epoch 32/50\n",
      "15/15 [==============================] - 0s 29ms/step - loss: 4.0844e-05 - acc: 1.0000 - val_loss: 0.4699 - val_acc: 0.9333\n",
      "Epoch 33/50\n",
      "15/15 [==============================] - 0s 29ms/step - loss: 3.7579e-05 - acc: 1.0000 - val_loss: 0.4697 - val_acc: 0.9333\n",
      "Epoch 34/50\n",
      "15/15 [==============================] - 0s 31ms/step - loss: 3.4104e-05 - acc: 1.0000 - val_loss: 0.4711 - val_acc: 0.9333\n",
      "Epoch 35/50\n",
      "15/15 [==============================] - 0s 30ms/step - loss: 3.1863e-05 - acc: 1.0000 - val_loss: 0.4730 - val_acc: 0.9333\n",
      "Epoch 36/50\n",
      "15/15 [==============================] - 0s 32ms/step - loss: 2.9507e-05 - acc: 1.0000 - val_loss: 0.4734 - val_acc: 0.9333\n",
      "Epoch 37/50\n",
      "15/15 [==============================] - 0s 29ms/step - loss: 2.6932e-05 - acc: 1.0000 - val_loss: 0.4724 - val_acc: 0.9333\n",
      "Epoch 38/50\n",
      "15/15 [==============================] - 0s 32ms/step - loss: 2.5448e-05 - acc: 1.0000 - val_loss: 0.4728 - val_acc: 0.9333\n",
      "Epoch 39/50\n",
      "15/15 [==============================] - 0s 31ms/step - loss: 2.3302e-05 - acc: 1.0000 - val_loss: 0.4705 - val_acc: 0.9333\n",
      "Epoch 40/50\n",
      "15/15 [==============================] - 1s 37ms/step - loss: 2.1978e-05 - acc: 1.0000 - val_loss: 0.4755 - val_acc: 0.9333\n",
      "Epoch 41/50\n",
      "15/15 [==============================] - 0s 28ms/step - loss: 2.0481e-05 - acc: 1.0000 - val_loss: 0.4768 - val_acc: 0.9333\n",
      "Epoch 42/50\n",
      "15/15 [==============================] - 0s 28ms/step - loss: 1.8524e-05 - acc: 1.0000 - val_loss: 0.4762 - val_acc: 0.9333\n",
      "Epoch 43/50\n",
      "15/15 [==============================] - 1s 43ms/step - loss: 1.7429e-05 - acc: 1.0000 - val_loss: 0.4789 - val_acc: 0.9333\n",
      "Epoch 44/50\n",
      "15/15 [==============================] - 1s 42ms/step - loss: 1.6315e-05 - acc: 1.0000 - val_loss: 0.4788 - val_acc: 0.9333\n",
      "Epoch 45/50\n",
      "15/15 [==============================] - 1s 37ms/step - loss: 1.5553e-05 - acc: 1.0000 - val_loss: 0.4803 - val_acc: 0.9333\n",
      "Epoch 46/50\n",
      "15/15 [==============================] - 1s 36ms/step - loss: 1.4626e-05 - acc: 1.0000 - val_loss: 0.4766 - val_acc: 0.9333\n",
      "Epoch 47/50\n",
      "15/15 [==============================] - 0s 31ms/step - loss: 1.3745e-05 - acc: 1.0000 - val_loss: 0.4794 - val_acc: 0.9333\n",
      "Epoch 48/50\n",
      "15/15 [==============================] - 1s 33ms/step - loss: 1.2810e-05 - acc: 1.0000 - val_loss: 0.4816 - val_acc: 0.9333\n",
      "Epoch 49/50\n",
      "15/15 [==============================] - 1s 34ms/step - loss: 1.2005e-05 - acc: 1.0000 - val_loss: 0.4837 - val_acc: 0.9333\n",
      "Epoch 50/50\n",
      "15/15 [==============================] - 1s 37ms/step - loss: 1.1590e-05 - acc: 1.0000 - val_loss: 0.4824 - val_acc: 0.9333\n"
     ]
    },
    {
     "data": {
      "text/plain": [
       "<keras.callbacks.History at 0x7f9de0c40160>"
      ]
     },
     "execution_count": 6,
     "metadata": {},
     "output_type": "execute_result"
    }
   ],
   "source": [
    "# Use fit_generator when using ImageGenerator\n",
    "# Should Install PIL(Pillow)\n",
    "model.fit_generator(        train_generator,\n",
    "        steps_per_epoch=15,\n",
    "        epochs=50,       validation_data=test_generator,\n",
    "        validation_steps=5)\n"
   ]
  },
  {
   "cell_type": "code",
   "execution_count": 7,
   "metadata": {},
   "outputs": [
    {
     "name": "stdout",
     "output_type": "stream",
     "text": [
      "-- Evaluate --\n",
      "acc: 86.67%\n"
     ]
    }
   ],
   "source": [
    "print(\"-- Evaluate --\")\n",
    "scores = model.evaluate_generator(test_generator, steps=5)\n",
    "print(\"%s: %.2f%%\" %(model.metrics_names[1], scores[1]*100))\n"
   ]
  },
  {
   "cell_type": "code",
   "execution_count": 8,
   "metadata": {},
   "outputs": [
    {
     "name": "stdout",
     "output_type": "stream",
     "text": [
      "-- Predict --\n",
      "{'tri': 2, 'rect': 1, 'circ': 0}\n",
      "[[0.155 0.845 0.000]\n",
      " [0.000 0.002 0.998]\n",
      " [0.966 0.034 0.000]\n",
      " [0.025 0.975 0.000]\n",
      " [1.000 0.000 0.000]\n",
      " [0.928 0.072 0.000]\n",
      " [0.000 0.017 0.983]\n",
      " [0.000 0.000 1.000]\n",
      " [0.001 0.999 0.000]\n",
      " [0.000 0.000 1.000]\n",
      " [0.990 0.010 0.000]\n",
      " [0.000 0.000 1.000]\n",
      " [0.966 0.034 0.000]\n",
      " [0.990 0.010 0.000]\n",
      " [0.000 0.000 1.000]]\n"
     ]
    }
   ],
   "source": [
    "# Prediction When using ImgGen-\n",
    "print(\"-- Predict --\")\n",
    "output = model.predict_generator(test_generator, steps=5)\n",
    "np.set_printoptions(formatter={'float': lambda x: \"{0:0.3f}\".format(x)})\n",
    "print(test_generator.class_indices)\n",
    "print(output)\n"
   ]
  },
  {
   "cell_type": "code",
   "execution_count": null,
   "metadata": {},
   "outputs": [],
   "source": []
  }
 ],
 "metadata": {
  "kernelspec": {
   "display_name": "Python 3",
   "language": "python",
   "name": "python3"
  },
  "language_info": {
   "codemirror_mode": {
    "name": "ipython",
    "version": 3
   },
   "file_extension": ".py",
   "mimetype": "text/x-python",
   "name": "python",
   "nbconvert_exporter": "python",
   "pygments_lexer": "ipython3",
   "version": "3.5.6"
  }
 },
 "nbformat": 4,
 "nbformat_minor": 2
}
